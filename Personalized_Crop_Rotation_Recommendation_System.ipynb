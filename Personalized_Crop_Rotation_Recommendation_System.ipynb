{
 "cells": [
  {
   "cell_type": "code",
   "execution_count": null,
   "id": "bf9cb202",
   "metadata": {},
   "outputs": [],
   "source": [
    "import pandas as pd"
   ]
  },
  {
   "cell_type": "code",
   "execution_count": null,
   "id": "75c09325",
   "metadata": {},
   "outputs": [],
   "source": [
    "data = pd.read_csv(r\"your_file.csv")"
   ]
  },
  {
   "cell_type": "code",
   "execution_count": null,
   "id": "4c050794",
   "metadata": {
    "scrolled": true
   },
   "outputs": [],
   "source": [
    "data.head()"
   ]
  },
  {
   "cell_type": "code",
   "execution_count": null,
   "id": "8f36aaa4",
   "metadata": {},
   "outputs": [],
   "source": [
    "data.info()"
   ]
  },
  {
   "cell_type": "code",
   "execution_count": null,
   "id": "d675438b",
   "metadata": {},
   "outputs": [],
   "source": [
    "data.isnull().sum()"
   ]
  },
  {
   "cell_type": "code",
   "execution_count": null,
   "id": "de2d3e5f",
   "metadata": {},
   "outputs": [],
   "source": [
    "data['phosphorus_level'].fillna(data['phosphorus_level'].median(), inplace=True)"
   ]
  },
  {
   "cell_type": "code",
   "execution_count": null,
   "id": "95442426",
   "metadata": {},
   "outputs": [],
   "source": [
    "data['microbiome_diversity'].fillna(data['microbiome_diversity'].median(), inplace=True)"
   ]
  },
  {
   "cell_type": "code",
   "execution_count": null,
   "id": "6e7d0521",
   "metadata": {},
   "outputs": [],
   "source": [
    "data.isnull().sum()"
   ]
  },
  {
   "cell_type": "code",
   "execution_count": null,
   "id": "89ecf515",
   "metadata": {},
   "outputs": [],
   "source": [
    "data['crop'].unique()"
   ]
  },
  {
   "cell_type": "code",
   "execution_count": null,
   "id": "5a78e1b7",
   "metadata": {},
   "outputs": [],
   "source": [
    "data['crop'].nunique()"
   ]
  },
  {
   "cell_type": "code",
   "execution_count": null,
   "id": "e23a3b7e",
   "metadata": {},
   "outputs": [],
   "source": [
    "data['N_P_ratio'] = data['nitrogen_level'] / data['phosphorus_level']\n",
    "data['N_K_ratio'] = data['nitrogen_level'] / data['potassium_level']\n",
    "data['P_K_ratio'] = data['phosphorus_level'] / data['potassium_level']"
   ]
  },
  {
   "cell_type": "code",
   "execution_count": null,
   "id": "cf037ed2",
   "metadata": {},
   "outputs": [],
   "source": [
    "optimal_ph_min = 6.0\n",
    "optimal_ph_max = 7.0\n",
    "data['ph_deviation_min'] = data['ph_level'] - optimal_ph_min  # Deviation from the minimum optimal pH\n",
    "data['ph_deviation_max'] = data['ph_level'] - optimal_ph_max  # Deviation from the maximum optimal pH"
   ]
  },
  {
   "cell_type": "code",
   "execution_count": null,
   "id": "ebc55367",
   "metadata": {},
   "outputs": [],
   "source": [
    "data['temp_gdd_ratio'] = data['avg_temperature'] / data['growing_degree_days']"
   ]
  },
  {
   "cell_type": "code",
   "execution_count": null,
   "id": "a56d7103",
   "metadata": {},
   "outputs": [],
   "source": [
    "data.head()"
   ]
  },
  {
   "cell_type": "code",
   "execution_count": null,
   "id": "4a0e3807",
   "metadata": {},
   "outputs": [],
   "source": [
    "from sklearn.preprocessing import StandardScaler"
   ]
  },
  {
   "cell_type": "code",
   "execution_count": null,
   "id": "f069144c",
   "metadata": {},
   "outputs": [],
   "source": [
    "columns_to_scale = ['nitrogen_level', 'phosphorus_level', 'potassium_level', 'avg_temperature', \n",
    "                    'growing_degree_days', 'N_P_ratio', 'N_K_ratio', 'P_K_ratio', \n",
    "                    'ph_deviation_min', 'ph_deviation_max', 'temp_gdd_ratio']"
   ]
  },
  {
   "cell_type": "code",
   "execution_count": null,
   "id": "791f58a0",
   "metadata": {},
   "outputs": [],
   "source": [
    "data[columns_to_scale].head()"
   ]
  },
  {
   "cell_type": "code",
   "execution_count": null,
   "id": "1c677317",
   "metadata": {},
   "outputs": [],
   "source": [
    "scaler = StandardScaler()"
   ]
  },
  {
   "cell_type": "code",
   "execution_count": null,
   "id": "d179e2f8",
   "metadata": {},
   "outputs": [],
   "source": [
    "data[columns_to_scale] = scaler.fit_transform(data[columns_to_scale])"
   ]
  },
  {
   "cell_type": "code",
   "execution_count": null,
   "id": "4f875423",
   "metadata": {},
   "outputs": [],
   "source": [
    "data[columns_to_scale].head()"
   ]
  },
  {
   "cell_type": "code",
   "execution_count": null,
   "id": "d658840d",
   "metadata": {
    "scrolled": true
   },
   "outputs": [],
   "source": [
    "data.head()"
   ]
  },
  {
   "cell_type": "code",
   "execution_count": null,
   "id": "f5c03c4d",
   "metadata": {},
   "outputs": [],
   "source": [
    "data_encoded = pd.get_dummies(data, columns=['crop'], drop_first=False)"
   ]
  },
  {
   "cell_type": "code",
   "execution_count": null,
   "id": "3dec1ec2",
   "metadata": {},
   "outputs": [],
   "source": [
    "data_encoded.head()"
   ]
  },
  {
   "cell_type": "code",
   "execution_count": null,
   "id": "592808fe",
   "metadata": {},
   "outputs": [],
   "source": [
    "import matplotlib.pyplot as plt\n",
    "from sklearn.cluster import KMeans"
   ]
  },
  {
   "cell_type": "code",
   "execution_count": null,
   "id": "d301743c",
   "metadata": {},
   "outputs": [],
   "source": [
    "# Selecting features for clustering (exclude 'parcel_id' and 'year')\n",
    "X = data_encoded.drop(columns=['parcel_id', 'year'])\n",
    "\n",
    "# Elbow Method to find the optimal number of clusters\n",
    "wcss = []\n",
    "\n",
    "for i in range(1, 11):  # Checking for cluster numbers from 1 to 10\n",
    "    kmeans = KMeans(n_clusters=i, init='k-means++', max_iter=300, n_init=10, random_state=42)\n",
    "    kmeans.fit(X)\n",
    "    wcss.append(kmeans.inertia_)\n",
    "\n",
    "# Plotting the Elbow Graph\n",
    "plt.figure(figsize=(8, 6))\n",
    "plt.plot(range(1, 11), wcss, marker='o')\n",
    "plt.title('Elbow Method for Optimal Number of Clusters')\n",
    "plt.xlabel('Number of Clusters')\n",
    "plt.ylabel('WCSS')\n",
    "plt.show()"
   ]
  },
  {
   "cell_type": "code",
   "execution_count": null,
   "id": "d7fd27c2",
   "metadata": {
    "scrolled": true
   },
   "outputs": [],
   "source": [
    "# Fit KMeans with the selected number of clusters\n",
    "optimal_k = 4\n",
    "\n",
    "# Fit the KMeans model\n",
    "kmeans = KMeans(n_clusters=optimal_k, init='k-means++', max_iter=300, n_init=10, random_state=42)\n",
    "kmeans.fit(X)\n",
    "\n",
    "# Add the cluster labels to the original data\n",
    "data_encoded['cluster'] = kmeans.labels_\n",
    "\n",
    "# Check the cluster centers\n",
    "cluster_centers = pd.DataFrame(kmeans.cluster_centers_, columns=X.columns)\n",
    "print(\"Cluster Centers:\\n\", cluster_centers)\n",
    "\n",
    "# Check the mean values for each cluster (to interpret the clusters)\n",
    "cluster_means = data_encoded.groupby('cluster').mean()\n",
    "print(\"Cluster Means:\\n\", cluster_means)"
   ]
  },
  {
   "cell_type": "code",
   "execution_count": null,
   "id": "2afae915",
   "metadata": {},
   "outputs": [],
   "source": [
    "data_encoded.head()"
   ]
  },
  {
   "cell_type": "code",
   "execution_count": null,
   "id": "578a328b",
   "metadata": {},
   "outputs": [],
   "source": [
    "from sklearn.metrics import silhouette_score\n",
    "\n",
    "# Calculate the silhouette score\n",
    "sil_score = silhouette_score(X, kmeans.labels_)\n",
    "print(f'Silhouette Score: {sil_score}')"
   ]
  },
  {
   "cell_type": "code",
   "execution_count": null,
   "id": "48b28aaa",
   "metadata": {},
   "outputs": [],
   "source": [
    "from sklearn.decomposition import PCA\n",
    "import matplotlib.pyplot as plt\n",
    "\n",
    "# Reduce dimensions to 2D using PCA for visualization\n",
    "pca = PCA(n_components=2)\n",
    "pca_components = pca.fit_transform(X)\n",
    "\n",
    "# Add the PCA components to the dataframe for visualization\n",
    "data_encoded['pca1'] = pca_components[:, 0]\n",
    "data_encoded['pca2'] = pca_components[:, 1]\n",
    "\n",
    "# Plot the clusters\n",
    "plt.figure(figsize=(8, 6))\n",
    "plt.scatter(data_encoded['pca1'], data_encoded['pca2'], c=data_encoded['cluster'], cmap='viridis', alpha=0.7)\n",
    "plt.title('Clustering of Land Parcels (PCA Reduced to 2D)')\n",
    "plt.xlabel('PCA Component 1')\n",
    "plt.ylabel('PCA Component 2')\n",
    "plt.colorbar(label='Cluster')\n",
    "plt.show()"
   ]
  },
  {
   "cell_type": "code",
   "execution_count": null,
   "id": "d95fff8f",
   "metadata": {},
   "outputs": [],
   "source": [
    "# Assign meaningful labels to clusters\n",
    "def label_clusters(row):\n",
    "    if row['cluster'] == 0:\n",
    "        return 'High Nutrient, Low Drainage'\n",
    "    elif row['cluster'] == 1:\n",
    "        return 'Moderate Nutrient, High Organic Matter'\n",
    "    elif row['cluster'] == 2:\n",
    "        return 'Low Nutrient, High Drainage'\n",
    "    elif row['cluster'] == 3:\n",
    "        return 'High Organic Matter, Moderate Nutrient'\n",
    "\n",
    "# Apply the labeling function to the data\n",
    "data_encoded['cluster_label'] = data_encoded.apply(label_clusters, axis=1)\n",
    "\n",
    "# Show the updated data with the cluster labels\n",
    "print(data_encoded[['parcel_id', 'cluster', 'cluster_label']].head())"
   ]
  },
  {
   "cell_type": "code",
   "execution_count": null,
   "id": "6d51e27c",
   "metadata": {},
   "outputs": [],
   "source": [
    "# Define features (X) and target variable (y)\n",
    "X = data_encoded.drop(columns=['parcel_id', 'year', 'cluster', 'cluster_label'])  # Exclude 'parcel_id', 'year', and target columns\n",
    "y = data_encoded['cluster_label']  # Target variable is the 'cluster_label'"
   ]
  },
  {
   "cell_type": "code",
   "execution_count": null,
   "id": "6e9a5b9d",
   "metadata": {},
   "outputs": [],
   "source": [
    "from sklearn.model_selection import train_test_split\n",
    "\n",
    "# Split the data into training and testing sets\n",
    "X_train, X_test, y_train, y_test = train_test_split(X, y, test_size=0.2, random_state=42)"
   ]
  },
  {
   "cell_type": "code",
   "execution_count": null,
   "id": "bde5def2",
   "metadata": {},
   "outputs": [],
   "source": [
    "from sklearn.ensemble import RandomForestClassifier\n",
    "\n",
    "# Initialize the Random Forest model\n",
    "rf_model = RandomForestClassifier(n_estimators=100, random_state=42)\n",
    "\n",
    "# Train the model\n",
    "rf_model.fit(X_train, y_train)"
   ]
  },
  {
   "cell_type": "code",
   "execution_count": null,
   "id": "9820adfd",
   "metadata": {},
   "outputs": [],
   "source": [
    "from sklearn.metrics import classification_report, accuracy_score\n",
    "\n",
    "# Make predictions on the test data\n",
    "y_pred = rf_model.predict(X_test)\n",
    "\n",
    "# Evaluate the model\n",
    "accuracy = accuracy_score(y_test, y_pred)\n",
    "print(f\"Accuracy: {accuracy}\")\n",
    "print(\"Classification Report:\\n\", classification_report(y_test, y_pred))"
   ]
  },
  {
   "cell_type": "code",
   "execution_count": null,
   "id": "14557c2b",
   "metadata": {},
   "outputs": [],
   "source": [
    "data_encoded.head()"
   ]
  },
  {
   "cell_type": "code",
   "execution_count": null,
   "id": "9272f226",
   "metadata": {},
   "outputs": [],
   "source": [
    "from sklearn.model_selection import train_test_split"
   ]
  },
  {
   "cell_type": "code",
   "execution_count": null,
   "id": "278b14c1",
   "metadata": {},
   "outputs": [],
   "source": [
    "from sklearn.metrics import mean_squared_error, mean_absolute_error"
   ]
  },
  {
   "cell_type": "code",
   "execution_count": null,
   "id": "6b6cadcf",
   "metadata": {},
   "outputs": [],
   "source": [
    "from sklearn.linear_model import LinearRegression"
   ]
  },
  {
   "cell_type": "code",
   "execution_count": null,
   "id": "0fe3cd30",
   "metadata": {},
   "outputs": [],
   "source": [
    "# Define features (X) and target variable (y) for Alfalfa (all features included)\n",
    "X = data_encoded[['nitrogen_level', 'phosphorus_level', 'potassium_level', 'ph_level', \n",
    "                  'organic_matter', 'water_retention', 'drainage_score', 'topology_score', \n",
    "                  'annual_rainfall', 'avg_temperature']]  # Features (all features)\n",
    "\n",
    "y = data_encoded['crop_Alfalfa']  # Target variable for Alfalfa yield\n",
    "\n",
    "# Split data into training and testing sets\n",
    "X_train, X_test, y_train, y_test = train_test_split(X, y, test_size=0.2, random_state=42)\n",
    "\n",
    "# Initialize the Linear Regression model\n",
    "lr_model = LinearRegression()\n",
    "\n",
    "# Train the model\n",
    "lr_model.fit(X_train, y_train)\n",
    "\n",
    "# Predictions\n",
    "y_pred = lr_model.predict(X_test)\n",
    "\n",
    "# Evaluate the model\n",
    "mae = mean_absolute_error(y_test, y_pred)\n",
    "mse = mean_squared_error(y_test, y_pred)\n",
    "rmse = mse ** 0.5\n",
    "print(f\"Mean Absolute Error (MAE) for Yield Prediction: {mae}\")\n",
    "print(f\"Root Mean Squared Error (RMSE) for Yield Prediction: {rmse}\")"
   ]
  },
  {
   "cell_type": "code",
   "execution_count": null,
   "id": "986b6a01",
   "metadata": {},
   "outputs": [],
   "source": [
    "# Define features (X) and target variable (y) for Corn (all features included)\n",
    "X = data_encoded[['nitrogen_level', 'phosphorus_level', 'potassium_level', 'ph_level', \n",
    "                  'organic_matter', 'water_retention', 'drainage_score', 'topology_score', \n",
    "                  'annual_rainfall', 'avg_temperature']]  # Features (all features)\n",
    "\n",
    "y = data_encoded['crop_Corn']  # Target variable for Corn yield\n",
    "\n",
    "# Split data into training and testing sets\n",
    "X_train, X_test, y_train, y_test = train_test_split(X, y, test_size=0.2, random_state=42)\n",
    "\n",
    "# Initialize the Linear Regression model\n",
    "lr_model = LinearRegression()\n",
    "\n",
    "# Train the model\n",
    "lr_model.fit(X_train, y_train)\n",
    "\n",
    "# Predictions\n",
    "y_pred = lr_model.predict(X_test)\n",
    "\n",
    "# Evaluate the model\n",
    "mae = mean_absolute_error(y_test, y_pred)\n",
    "mse = mean_squared_error(y_test, y_pred)\n",
    "rmse = mse ** 0.5\n",
    "print(f\"Mean Absolute Error (MAE) for Yield Prediction: {mae}\")\n",
    "print(f\"Root Mean Squared Error (RMSE) for Yield Prediction: {rmse}\")"
   ]
  },
  {
   "cell_type": "code",
   "execution_count": null,
   "id": "a4f2d984",
   "metadata": {},
   "outputs": [],
   "source": [
    "# Define features (X) and target variable (y) for Cotton (all features included)\n",
    "X = data_encoded[['nitrogen_level', 'phosphorus_level', 'potassium_level', 'ph_level', \n",
    "                  'organic_matter', 'water_retention', 'drainage_score', 'topology_score', \n",
    "                  'annual_rainfall', 'avg_temperature']]  # Features (all features)\n",
    "\n",
    "y = data_encoded['crop_Cotton']  # Target variable for Cotton yield\n",
    "\n",
    "# Split data into training and testing sets\n",
    "X_train, X_test, y_train, y_test = train_test_split(X, y, test_size=0.2, random_state=42)\n",
    "\n",
    "# Initialize the Linear Regression model\n",
    "lr_model = LinearRegression()\n",
    "\n",
    "# Train the model\n",
    "lr_model.fit(X_train, y_train)\n",
    "\n",
    "# Predictions\n",
    "y_pred = lr_model.predict(X_test)\n",
    "\n",
    "# Evaluate the model\n",
    "mae = mean_absolute_error(y_test, y_pred)\n",
    "mse = mean_squared_error(y_test, y_pred)\n",
    "rmse = mse ** 0.5\n",
    "print(f\"Mean Absolute Error (MAE) for Yield Prediction: {mae}\")\n",
    "print(f\"Root Mean Squared Error (RMSE) for Yield Prediction: {rmse}\")"
   ]
  },
  {
   "cell_type": "code",
   "execution_count": null,
   "id": "43d00655",
   "metadata": {},
   "outputs": [],
   "source": [
    "# Define features (X) and target variable (y) for Soybeans (all features included)\n",
    "X = data_encoded[['nitrogen_level', 'phosphorus_level', 'potassium_level', 'ph_level', \n",
    "                  'organic_matter', 'water_retention', 'drainage_score', 'topology_score', \n",
    "                  'annual_rainfall', 'avg_temperature']]  # Features (all features)\n",
    "\n",
    "y = data_encoded['crop_Soybeans']  # Target variable for Soybeans yield\n",
    "\n",
    "# Split data into training and testing sets\n",
    "X_train, X_test, y_train, y_test = train_test_split(X, y, test_size=0.2, random_state=42)\n",
    "\n",
    "# Initialize the Linear Regression model\n",
    "lr_model = LinearRegression()\n",
    "\n",
    "# Train the model\n",
    "lr_model.fit(X_train, y_train)\n",
    "\n",
    "# Predictions\n",
    "y_pred = lr_model.predict(X_test)\n",
    "\n",
    "# Evaluate the model\n",
    "mae = mean_absolute_error(y_test, y_pred)\n",
    "mse = mean_squared_error(y_test, y_pred)\n",
    "rmse = mse ** 0.5\n",
    "print(f\"Mean Absolute Error (MAE) for Yield Prediction: {mae}\")\n",
    "print(f\"Root Mean Squared Error (RMSE) for Yield Prediction: {rmse}\")"
   ]
  },
  {
   "cell_type": "code",
   "execution_count": null,
   "id": "1b1df089",
   "metadata": {},
   "outputs": [],
   "source": [
    "# Define features (X) and target variable (y) for Wheat (all features included)\n",
    "X = data_encoded[['nitrogen_level', 'phosphorus_level', 'potassium_level', 'ph_level', \n",
    "                  'organic_matter', 'water_retention', 'drainage_score', 'topology_score', \n",
    "                  'annual_rainfall', 'avg_temperature']]  # Features (all features)\n",
    "\n",
    "y = data_encoded['crop_Wheat']  # Target variable for Wheat yield\n",
    "\n",
    "# Split data into training and testing sets\n",
    "X_train, X_test, y_train, y_test = train_test_split(X, y, test_size=0.2, random_state=42)\n",
    "\n",
    "# Initialize the Linear Regression model\n",
    "lr_model = LinearRegression()\n",
    "\n",
    "# Train the model\n",
    "lr_model.fit(X_train, y_train)\n",
    "\n",
    "# Predictions\n",
    "y_pred = lr_model.predict(X_test)\n",
    "\n",
    "# Evaluate the model\n",
    "mae = mean_absolute_error(y_test, y_pred)\n",
    "mse = mean_squared_error(y_test, y_pred)\n",
    "rmse = mse ** 0.5\n",
    "print(f\"Mean Absolute Error (MAE) for Yield Prediction: {mae}\")\n",
    "print(f\"Root Mean Squared Error (RMSE) for Yield Prediction: {rmse}\")"
   ]
  },
  {
   "cell_type": "code",
   "execution_count": null,
   "id": "98d5257e",
   "metadata": {},
   "outputs": [],
   "source": []
  },
  {
   "cell_type": "code",
   "execution_count": null,
   "id": "ff2dd0d4",
   "metadata": {},
   "outputs": [],
   "source": [
    "# We have a 'soil_health_score' column\n",
    "X = data_encoded[['nitrogen_level', 'phosphorus_level', 'potassium_level', 'ph_level', \n",
    "                  'organic_matter', 'water_retention', 'drainage_score', 'topology_score']]  # Features\n",
    "\n",
    "y = data_encoded['soil_health_score']  # Target variable for soil health\n",
    "\n",
    "# Split data into training and testing sets\n",
    "X_train, X_test, y_train, y_test = train_test_split(X, y, test_size=0.2, random_state=42)\n",
    "\n",
    "# Initialize the model\n",
    "linear_regressor = LinearRegression()\n",
    "\n",
    "# Train the model\n",
    "linear_regressor.fit(X_train, y_train)\n",
    "\n",
    "# Predictions\n",
    "y_pred = linear_regressor.predict(X_test)\n",
    "\n",
    "# Evaluate the model\n",
    "mae = mean_absolute_error(y_test, y_pred)\n",
    "mse = mean_squared_error(y_test, y_pred)\n",
    "rmse = mse ** 0.5\n",
    "print(f\"Mean Absolute Error (MAE): {mae}\")\n",
    "print(f\"Root Mean Squared Error (RMSE): {rmse}\")"
   ]
  },
  {
   "cell_type": "code",
   "execution_count": null,
   "id": "fe1d1256",
   "metadata": {},
   "outputs": [],
   "source": []
  },
  {
   "cell_type": "code",
   "execution_count": null,
   "id": "36055adb",
   "metadata": {},
   "outputs": [],
   "source": [
    "# Forecasting water needs using available columns\n",
    "X = data_encoded[['nitrogen_level', 'phosphorus_level', 'potassium_level', 'ph_level', \n",
    "                  'organic_matter', 'water_retention', 'drainage_score', 'topology_score']]  # Features\n",
    "\n",
    "# Assuming 'water_retention' is a close proxy for water needs\n",
    "y = data_encoded['water_retention']  # Target variable (using 'water_retention' as a proxy)\n",
    "\n",
    "# Split data into training and testing sets\n",
    "X_train, X_test, y_train, y_test = train_test_split(X, y, test_size=0.2, random_state=42)\n",
    "\n",
    "# Initialize the Linear Regression model\n",
    "lr_regressor = LinearRegression()\n",
    "\n",
    "# Train the model\n",
    "lr_regressor.fit(X_train, y_train)\n",
    "\n",
    "# Predictions\n",
    "y_pred = lr_regressor.predict(X_test)\n",
    "\n",
    "# Evaluate the model\n",
    "mae = mean_absolute_error(y_test, y_pred)\n",
    "mse = mean_squared_error(y_test, y_pred)\n",
    "rmse = mse ** 0.5\n",
    "print(f\"Mean Absolute Error (MAE) for Water Needs Forecasting: {mae}\")\n",
    "print(f\"Root Mean Squared Error (RMSE) for Water Needs Forecasting: {rmse}\")"
   ]
  },
  {
   "cell_type": "code",
   "execution_count": null,
   "id": "473010cb",
   "metadata": {},
   "outputs": [],
   "source": []
  },
  {
   "cell_type": "code",
   "execution_count": null,
   "id": "a2dba910",
   "metadata": {},
   "outputs": [],
   "source": [
    "# Economic Return Prediction\n",
    "# We will assume that we have market prices for each crop\n",
    "# Assuming predicted yields from previous models for each crop\n",
    "\n",
    "# Example of Market Prices (adjust as needed)\n",
    "market_prices = {\n",
    "    'crop_Alfalfa': 14, # Example price per unit of Alfalfa yield\n",
    "    'crop_Corn': 10,    # Example price per unit of Corn yield\n",
    "    'crop_Cotton': 8,   # Example price per unit of Cotton yield\n",
    "    'crop_Soybeans': 15,  # Example price per unit of Soybeans yield\n",
    "    'crop_Wheat': 12     # Example price per unit of Wheat yield\n",
    "}\n",
    "# For each crop, we predict economic return\n",
    "def calculate_economic_return(crop, predicted_yield):\n",
    "    price = market_prices.get(crop, 0)  # Get price per unit for the crop\n",
    "    return predicted_yield * price      # Economic return = predicted yield * market price\n",
    "\n",
    "# Now, let's predict the economic return based on predicted yields\n",
    "X = data_encoded[['nitrogen_level', 'phosphorus_level', 'potassium_level', 'ph_level', \n",
    "                  'organic_matter', 'water_retention', 'drainage_score', 'topology_score']]  # Features\n",
    "\n",
    "y = data_encoded['crop_Alfalfa']  # Target variable for crop yield (adjust for other crops)\n",
    "\n",
    "# Split data into training and testing sets\n",
    "X_train, X_test, y_train, y_test = train_test_split(X, y, test_size=0.2, random_state=42)\n",
    "\n",
    "\n",
    "# Initialize the Linear Regression model\n",
    "lr_regressor = LinearRegression()\n",
    "\n",
    "# Train the model\n",
    "lr_regressor.fit(X_train, y_train)\n",
    "\n",
    "# Predictions\n",
    "y_pred = lr_regressor.predict(X_test)\n",
    "\n",
    "# Calculate Economic Return\n",
    "economic_return = calculate_economic_return('crop_Alfalfa', y_pred)\n",
    "\n",
    "# Evaluate the model (we can evaluate yield prediction first as Economic Return is derived from that)\n",
    "mae = mean_absolute_error(y_test, y_pred)\n",
    "mse = mean_squared_error(y_test, y_pred)\n",
    "rmse = mse ** 0.5\n",
    "print(f\"Mean Absolute Error (MAE) for Yield Prediction: {mae}\")\n",
    "print(f\"Root Mean Squared Error (RMSE) for Yield Prediction: {rmse}\")\n",
    "\n",
    "# Display the economic return based on predicted yield\n",
    "print(f\"Predicted Economic Return for Corn: {economic_return[:5]}\")  # Show first 5 predicted economic returns"
   ]
  },
  {
   "cell_type": "code",
   "execution_count": null,
   "id": "dff25957",
   "metadata": {},
   "outputs": [],
   "source": [
    "# For each crop, we predict economic return\n",
    "def calculate_economic_return(crop, predicted_yield):\n",
    "    price = market_prices.get(crop, 0)  # Get price per unit for the crop\n",
    "    return predicted_yield * price      # Economic return = predicted yield * market price\n",
    "\n",
    "# Now, let's predict the economic return based on predicted yields\n",
    "X = data_encoded[['nitrogen_level', 'phosphorus_level', 'potassium_level', 'ph_level', \n",
    "                  'organic_matter', 'water_retention', 'drainage_score', 'topology_score']]  # Features\n",
    "\n",
    "y = data_encoded['crop_Corn']  # Target variable for crop yield (adjust for other crops)\n",
    "\n",
    "# Split data into training and testing sets\n",
    "X_train, X_test, y_train, y_test = train_test_split(X, y, test_size=0.2, random_state=42)\n",
    "\n",
    "\n",
    "# Initialize the Linear Regression model\n",
    "lr_regressor = LinearRegression()\n",
    "\n",
    "# Train the model\n",
    "lr_regressor.fit(X_train, y_train)\n",
    "\n",
    "# Predictions\n",
    "y_pred = lr_regressor.predict(X_test)\n",
    "\n",
    "# Calculate Economic Return\n",
    "economic_return = calculate_economic_return('crop_Corn', y_pred)\n",
    "\n",
    "# Evaluate the model (we can evaluate yield prediction first as Economic Return is derived from that)\n",
    "mae = mean_absolute_error(y_test, y_pred)\n",
    "mse = mean_squared_error(y_test, y_pred)\n",
    "rmse = mse ** 0.5\n",
    "print(f\"Mean Absolute Error (MAE) for Yield Prediction: {mae}\")\n",
    "print(f\"Root Mean Squared Error (RMSE) for Yield Prediction: {rmse}\")\n",
    "\n",
    "# Display the economic return based on predicted yield\n",
    "print(f\"Predicted Economic Return for Corn: {economic_return[:5]}\")  # Show first 5 predicted economic returns"
   ]
  },
  {
   "cell_type": "code",
   "execution_count": null,
   "id": "90482008",
   "metadata": {},
   "outputs": [],
   "source": [
    "# For each crop, we predict economic return\n",
    "def calculate_economic_return(crop, predicted_yield):\n",
    "    price = market_prices.get(crop, 0)  # Get price per unit for the crop\n",
    "    return predicted_yield * price      # Economic return = predicted yield * market price\n",
    "\n",
    "# Now, let's predict the economic return based on predicted yields\n",
    "X = data_encoded[['nitrogen_level', 'phosphorus_level', 'potassium_level', 'ph_level', \n",
    "                  'organic_matter', 'water_retention', 'drainage_score', 'topology_score']]  # Features\n",
    "\n",
    "y = data_encoded['crop_Cotton']  # Target variable for crop yield (adjust for other crops)\n",
    "\n",
    "# Split data into training and testing sets\n",
    "X_train, X_test, y_train, y_test = train_test_split(X, y, test_size=0.2, random_state=42)\n",
    "\n",
    "\n",
    "# Initialize the Linear Regression model\n",
    "lr_regressor = LinearRegression()\n",
    "\n",
    "# Train the model\n",
    "lr_regressor.fit(X_train, y_train)\n",
    "\n",
    "# Predictions\n",
    "y_pred = lr_regressor.predict(X_test)\n",
    "\n",
    "# Calculate Economic Return\n",
    "economic_return = calculate_economic_return('crop_Cotton', y_pred)\n",
    "\n",
    "# Evaluate the model (we can evaluate yield prediction first as Economic Return is derived from that)\n",
    "mae = mean_absolute_error(y_test, y_pred)\n",
    "mse = mean_squared_error(y_test, y_pred)\n",
    "rmse = mse ** 0.5\n",
    "print(f\"Mean Absolute Error (MAE) for Yield Prediction: {mae}\")\n",
    "print(f\"Root Mean Squared Error (RMSE) for Yield Prediction: {rmse}\")\n",
    "\n",
    "# Display the economic return based on predicted yield\n",
    "print(f\"Predicted Economic Return for Corn: {economic_return[:5]}\")  # Show first 5 predicted economic returns"
   ]
  },
  {
   "cell_type": "code",
   "execution_count": null,
   "id": "14534a34",
   "metadata": {},
   "outputs": [],
   "source": [
    "# For each crop, we predict economic return\n",
    "def calculate_economic_return(crop, predicted_yield):\n",
    "    price = market_prices.get(crop, 0)  # Get price per unit for the crop\n",
    "    return predicted_yield * price      # Economic return = predicted yield * market price\n",
    "\n",
    "# Now, let's predict the economic return based on predicted yields\n",
    "X = data_encoded[['nitrogen_level', 'phosphorus_level', 'potassium_level', 'ph_level', \n",
    "                  'organic_matter', 'water_retention', 'drainage_score', 'topology_score']]  # Features\n",
    "\n",
    "y = data_encoded['crop_Soybeans']  # Target variable for crop yield (adjust for other crops)\n",
    "\n",
    "# Split data into training and testing sets\n",
    "X_train, X_test, y_train, y_test = train_test_split(X, y, test_size=0.2, random_state=42)\n",
    "\n",
    "\n",
    "# Initialize the Linear Regression model\n",
    "lr_regressor = LinearRegression()\n",
    "\n",
    "# Train the model\n",
    "lr_regressor.fit(X_train, y_train)\n",
    "\n",
    "# Predictions\n",
    "y_pred = lr_regressor.predict(X_test)\n",
    "\n",
    "# Calculate Economic Return\n",
    "economic_return = calculate_economic_return('crop_Soybeans', y_pred)\n",
    "\n",
    "# Evaluate the model (we can evaluate yield prediction first as Economic Return is derived from that)\n",
    "mae = mean_absolute_error(y_test, y_pred)\n",
    "mse = mean_squared_error(y_test, y_pred)\n",
    "rmse = mse ** 0.5\n",
    "print(f\"Mean Absolute Error (MAE) for Yield Prediction: {mae}\")\n",
    "print(f\"Root Mean Squared Error (RMSE) for Yield Prediction: {rmse}\")\n",
    "\n",
    "# Display the economic return based on predicted yield\n",
    "print(f\"Predicted Economic Return for Corn: {economic_return[:5]}\")  # Show first 5 predicted economic returns"
   ]
  },
  {
   "cell_type": "code",
   "execution_count": null,
   "id": "d33a88e0",
   "metadata": {},
   "outputs": [],
   "source": [
    "# For each crop, we predict economic return\n",
    "def calculate_economic_return(crop, predicted_yield):\n",
    "    price = market_prices.get(crop, 0)  # Get price per unit for the crop\n",
    "    return predicted_yield * price      # Economic return = predicted yield * market price\n",
    "\n",
    "# Now, let's predict the economic return based on predicted yields\n",
    "X = data_encoded[['nitrogen_level', 'phosphorus_level', 'potassium_level', 'ph_level', \n",
    "                  'organic_matter', 'water_retention', 'drainage_score', 'topology_score']]  # Features\n",
    "\n",
    "y = data_encoded['crop_Wheat']  # Target variable for crop yield (adjust for other crops)\n",
    "\n",
    "# Split data into training and testing sets\n",
    "X_train, X_test, y_train, y_test = train_test_split(X, y, test_size=0.2, random_state=42)\n",
    "\n",
    "\n",
    "# Initialize the Linear Regression model\n",
    "lr_regressor = LinearRegression()\n",
    "\n",
    "# Train the model\n",
    "lr_regressor.fit(X_train, y_train)\n",
    "\n",
    "# Predictions\n",
    "y_pred = lr_regressor.predict(X_test)\n",
    "\n",
    "# Calculate Economic Return\n",
    "economic_return = calculate_economic_return('crop_Wheat', y_pred)\n",
    "\n",
    "# Evaluate the model (we can evaluate yield prediction first as Economic Return is derived from that)\n",
    "mae = mean_absolute_error(y_test, y_pred)\n",
    "mse = mean_squared_error(y_test, y_pred)\n",
    "rmse = mse ** 0.5\n",
    "print(f\"Mean Absolute Error (MAE) for Yield Prediction: {mae}\")\n",
    "print(f\"Root Mean Squared Error (RMSE) for Yield Prediction: {rmse}\")\n",
    "\n",
    "# Display the economic return based on predicted yield\n",
    "print(f\"Predicted Economic Return for Corn: {economic_return[:5]}\")  # Show first 5 predicted economic returns"
   ]
  },
  {
   "cell_type": "code",
   "execution_count": null,
   "id": "d1b8e55f",
   "metadata": {},
   "outputs": [],
   "source": []
  },
  {
   "cell_type": "code",
   "execution_count": null,
   "id": "7f651c49",
   "metadata": {},
   "outputs": [],
   "source": [
    "import plotly.express as px\n",
    "\n",
    "# Scatter plot for cluster visualization using PCA components\n",
    "fig = px.scatter(data_encoded, \n",
    "                 x='pca1',  # Use pca1 as the x-coordinate for visualization\n",
    "                 y='pca2',  # Use pca2 as the y-coordinate for visualization\n",
    "                 color='cluster_label',  # Use cluster_label to color the points\n",
    "                 hover_name='parcel_id',  # Display parcel_id in hover information\n",
    "                 title=\"Clustered Land Parcels by PCA Transformed Coordinates\")\n",
    "\n",
    "# Update layout for better visuals\n",
    "fig.update_layout(margin={\"r\":0,\"t\":0,\"l\":0,\"b\":0})  # Optional: remove margins around the plot\n",
    "\n",
    "fig.show()"
   ]
  },
  {
   "cell_type": "code",
   "execution_count": null,
   "id": "26a56d3d",
   "metadata": {},
   "outputs": [],
   "source": [
    "import plotly.express as px\n",
    "\n",
    "# Assuming 'data_encoded' is your dataframe, as loaded by:\n",
    "# data_encoded = pd.read_csv(r\"E:\\Guvi\\Projects\\Final Project Agriculture\\agricultural_data_large.csv\")\n",
    "\n",
    "fig = px.scatter(data_encoded, \n",
    "                 x='pca1',  # Use pca1 as the x-coordinate for visualization\n",
    "                 y='pca2',  # Use pca2 as the y-coordinate for visualization\n",
    "                 color='cluster',  # Cluster column to color the points\n",
    "                 hover_name='parcel_id',  # Display parcel_id in hover information\n",
    "                 title=\"Clustered Land Parcels by PCA Transformed Coordinates\")\n",
    "\n",
    "# Update layout for better visuals\n",
    "fig.update_layout(margin={\"r\":0,\"t\":0,\"l\":0,\"b\":0})  # Optional: remove margins around the plot\n",
    "#fig.update_traces(marker=dict(size=8))\n",
    "\n",
    "fig.show()"
   ]
  },
  {
   "cell_type": "code",
   "execution_count": null,
   "id": "731346c3",
   "metadata": {},
   "outputs": [],
   "source": [
    "# Crop Yield and Resource comparison for each cluster\n",
    "crop_columns = ['crop_Alfalfa', 'crop_Corn', 'crop_Cotton', 'crop_Soybeans', 'crop_Wheat']\n",
    "resources_columns = ['nitrogen_level', 'phosphorus_level', 'potassium_level', 'organic_matter']\n",
    "\n",
    "# Create a long-format dataframe for crops and resources to plot\n",
    "crop_data = data_encoded[['cluster_label'] + crop_columns + resources_columns].melt(id_vars=\"cluster_label\", \n",
    "                                                                                   value_vars=crop_columns + resources_columns,\n",
    "                                                                                   var_name=\"Variable\", value_name=\"Value\")\n",
    "\n",
    "# Filter for crop-related data\n",
    "crop_data = crop_data[crop_data['Variable'].isin(crop_columns)]\n",
    "\n",
    "# Comparative Crop Chart\n",
    "fig = px.bar(crop_data, x='cluster_label', y='Value', color='Variable',\n",
    "             title=\"Comparative Crop Yield Across Clusters\",\n",
    "             labels={\"Value\": \"Yield/Resource Value\", \"cluster_label\": \"Cluster\"})\n",
    "fig.update_layout(barmode='group')  # Display bars side by side\n",
    "fig.show()"
   ]
  },
  {
   "cell_type": "code",
   "execution_count": null,
   "id": "0619eb63",
   "metadata": {},
   "outputs": [],
   "source": [
    "fig = px.bar(data_encoded, x='cluster', y='economic_return', color='cluster_label', \n",
    "             title=\"Economic Returns Across Clusters\", \n",
    "             labels={\"economic_return\": \"Economic Return\", \"cluster\": \"Cluster\"})\n",
    "fig.show()"
   ]
  },
  {
   "cell_type": "code",
   "execution_count": null,
   "id": "e9d14e09",
   "metadata": {},
   "outputs": [],
   "source": [
    "fig = px.bar(data_encoded, x='cluster', y='economic_return', color='cluster', \n",
    "             title=\"Economic Returns Across Clusters\", \n",
    "             labels={\"economic_return\": \"Economic Return\", \"cluster\": \"Cluster\"})\n",
    "fig.show()"
   ]
  },
  {
   "cell_type": "code",
   "execution_count": null,
   "id": "e1f3d3df",
   "metadata": {},
   "outputs": [],
   "source": [
    "import seaborn as sns\n",
    "import matplotlib.pyplot as plt\n",
    "\n",
    "# Correlation between soil health and predicted yields (e.g., for Corn)\n",
    "correlation_matrix = data_encoded[['nitrogen_level', 'organic_matter', 'ph_level', 'crop_Corn', 'economic_return']].corr()\n",
    "\n",
    "# Heatmap for better visualization\n",
    "plt.figure(figsize=(10, 6))\n",
    "sns.heatmap(correlation_matrix, annot=True, cmap=\"coolwarm\", fmt=\".2f\")\n",
    "plt.title('Correlation between Soil Health and Crop Yield/Economic Return')\n",
    "plt.show()"
   ]
  },
  {
   "cell_type": "code",
   "execution_count": null,
   "id": "560da6e2",
   "metadata": {},
   "outputs": [],
   "source": [
    "# Scatter plot for Nitrogen vs. Predicted Yield for Corn (for example)\n",
    "fig = px.scatter(data_encoded, \n",
    "                 x='nitrogen_level', \n",
    "                 y='crop_Corn',  # Predicted yield for Corn\n",
    "                 color='cluster',  # Cluster info to differentiate by cluster\n",
    "                 title=\"Nitrogen vs Predicted Yield for Corn by Cluster\",\n",
    "                 labels={\"nitrogen_level\": \"Nitrogen Level\", \"crop_Corn\": \"Predicted Yield (Corn)\"})\n",
    "fig.show()"
   ]
  },
  {
   "cell_type": "code",
   "execution_count": null,
   "id": "eb99a717",
   "metadata": {},
   "outputs": [],
   "source": [
    "def provide_crop_rotation_recommendation(cluster):\n",
    "    if cluster == 0:  # Low Nitrogen, High Organic Matter\n",
    "        return \"Recommended Crop Rotation: Alfalfa (Nitrogen Fixing) → Corn/Cotton → Soybeans\"\n",
    "    \n",
    "    elif cluster == 1:  # High Nitrogen, Low Organic Matter\n",
    "        return \"Recommended Crop Rotation: Soybeans (Nitrogen Fixing) → Corn/Wheat → Cotton\"\n",
    "    \n",
    "    elif cluster == 2:  # Low pH (Acidic Soil)\n",
    "        return \"Recommended Crop Rotation: Wheat/Soybeans → Lime the soil → Corn/Cotton\"\n",
    "    \n",
    "    elif cluster == 3: # High Organic Matter, Moderate Nitrogen\n",
    "        return \"Recommended Crop Rotation: Alfalfa (Nitrogen Fixing) → Corn/Soybeans → Wheat/Cotton\"\n",
    "    \n",
    "    else:  # Balanced Soil\n",
    "        return \"Recommended Crop Rotation: Alfalfa → Corn → Soybeans → Cotton\"\n",
    "    \n",
    "# Assuming 'data_encoded' contains cluster\n",
    "data_encoded['recommendation'] = data_encoded['cluster'].apply(provide_crop_rotation_recommendation)\n",
    "# Display recommendations for each parcel\n",
    "# print(data_encoded[['cluster', 'recommendation']])"
   ]
  },
  {
   "cell_type": "code",
   "execution_count": null,
   "id": "bab9225c",
   "metadata": {},
   "outputs": [],
   "source": [
    "import plotly.express as px\n",
    "\n",
    "# Plotting a scatter plot of clusters with crop rotation recommendations as labels or hover text\n",
    "fig = px.scatter(data_encoded, \n",
    "                 x='pca1', \n",
    "                 y='pca2', \n",
    "                 color='cluster', \n",
    "                 hover_name='recommendation',  # Show recommendation on hover\n",
    "                 title=\"Clustered Land Parcels by PCA Transformed Coordinates with Crop Rotation Recommendations\")\n",
    "\n",
    "# Update layout for better visualization\n",
    "fig.update_layout(margin={\"r\":0,\"t\":0,\"l\":0,\"b\":0})\n",
    "fig.show()"
   ]
  },
  {
   "cell_type": "code",
   "execution_count": null,
   "id": "780f3fe3",
   "metadata": {},
   "outputs": [],
   "source": []
  }
 ],
 "metadata": {
  "kernelspec": {
   "display_name": "Python 3 (ipykernel)",
   "language": "python",
   "name": "python3"
  },
  "language_info": {
   "codemirror_mode": {
    "name": "ipython",
    "version": 3
   },
   "file_extension": ".py",
   "mimetype": "text/x-python",
   "name": "python",
   "nbconvert_exporter": "python",
   "pygments_lexer": "ipython3",
   "version": "3.11.5"
  }
 },
 "nbformat": 4,
 "nbformat_minor": 5
}
